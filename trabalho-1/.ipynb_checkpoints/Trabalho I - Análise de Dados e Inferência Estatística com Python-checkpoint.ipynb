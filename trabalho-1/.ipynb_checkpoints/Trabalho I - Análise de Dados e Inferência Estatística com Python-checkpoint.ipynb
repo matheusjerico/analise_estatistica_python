{
 "cells": [
  {
   "cell_type": "markdown",
   "metadata": {},
   "source": [
    "# Análise de Dados e Inferência Estatística com Python\n",
    "\n",
    "### Trabalho I - Tratamento de dados com Estatística\n",
    "\n",
    "**Professor:** Paulo Cotta\n",
    "\n",
    "**Aluno:** MATHEUS JERICÓ PALHARES\n",
    "\n",
    "**Entrega:** 29/10/2019\n",
    "\n",
    "O conjunto de dados para este projeto se origina do [repositório de Machine Learning da UCI](https://archive.ics.uci.edu/ml/datasets/Housing). Os dados de imóveis de Boston foram coletados em 1978 e cada uma das 489 entradas representa dados agregados sobre 14 atributos para imóveis de vários subúrbios de Boston.\n",
    "\n",
    "Neste projeto, você irá avaliar um conjunto de dados coletado dos imóveis dos subúrbios de Boston, Massachusetts. O principal objetivo deste trabalho é realizar a análise e começar a trabalhar com funções e métodos que serão utilizados no dia a dia de vocês como Engenheiros de Dados e/ou Engenheiros de Machine Learning.\n",
    "\n",
    "\n",
    "**Vale lembrar que o trabalho terá situações que serão feitas em sala de aula (então nem todo o conteúdo foi abordado ainda), para qualquer dúvida pode procurar o professor.**"
   ]
  },
  {
   "cell_type": "code",
   "execution_count": 44,
   "metadata": {},
   "outputs": [
    {
     "name": "stdout",
     "output_type": "stream",
     "text": [
      "A versão do scikit-learn é  0.21.2\n"
     ]
    }
   ],
   "source": [
    "# Verificação se o sklearn está instalado na sua máquina\n",
    "import sklearn\n",
    "import seaborn as sns\n",
    "import numpy as np\n",
    "import matplotlib.pyplot as plt\n",
    "print(\"A versão do scikit-learn é \", sklearn.__version__)"
   ]
  },
  {
   "cell_type": "markdown",
   "metadata": {},
   "source": [
    "O sklearn é um framework que já possui alguns algoritmos de Machine Learning (ML) prontos. Eu recomento que utilizem sempre a ultima versão do framework.\n",
    "\n",
    "Documentação: [link](https://scikit-learn.org/stable/)"
   ]
  },
  {
   "cell_type": "markdown",
   "metadata": {},
   "source": [
    "Mediante ao cenário seguinte:\n",
    "\n",
    "Os dados de imóveis de Boston foram coletados em 1978 e cada uma das 489 entradas representa dados agregados sobre 14 atributos para imóveis de vários subúrbios de Boston. Para o propósito deste projeto, os passos de pré-processamento a seguir foram feitos para esse conjunto de dados:\n",
    "- 16 observações de dados possuem um valor `'MEDV'` de 50.0. Essas observações provavelmente contêm **valores ausentes ou censurados** e foram removidas.\n",
    "- 1 observação de dados tem um valor `'RM'` de 8.78. Essa observação pode ser considerada **valor atípico (outlier)** e foi removida.\n",
    "- Os atributos `'RM'`, `'LSTAT'`, `'PTRATIO'`, and `'MEDV'` são essenciais. O resto dos **atributos irrelevantes** foram excluídos.\n",
    "- O atributo `'MEDV'` foi **escalonado multiplicativamente** para considerar 35 anos de inflação de mercado.\n",
    "\n",
    "Fica mais tranquilo efetuar o trabalho conhecendo um pouco sobre o conjunto de dados (dataset)."
   ]
  },
  {
   "cell_type": "code",
   "execution_count": 2,
   "metadata": {},
   "outputs": [
    {
     "name": "stdout",
     "output_type": "stream",
     "text": [
      "<class 'pandas.core.frame.DataFrame'>\n",
      "RangeIndex: 489 entries, 0 to 488\n",
      "Data columns (total 4 columns):\n",
      "RM         489 non-null float64\n",
      "LSTAT      489 non-null float64\n",
      "PTRATIO    489 non-null float64\n",
      "MEDV       489 non-null float64\n",
      "dtypes: float64(4)\n",
      "memory usage: 15.4 KB\n",
      "O conjunto de dados de imóveis de Boston tem 489 pontos com 4 variáveis em cada.\n"
     ]
    }
   ],
   "source": [
    "# Execute a célula de código abaixo para carregar o conjunto dos dados dos imóveis de Boston\n",
    "# Importar as bibliotecas necessárias para este projeto\n",
    "import numpy as np\n",
    "import pandas as pd\n",
    "from sklearn.model_selection import ShuffleSplit\n",
    "\n",
    "# Formatação mais bonita para os notebooks\n",
    "%matplotlib inline\n",
    "\n",
    "# Executar o conjunto de dados de imóveis de Boston\n",
    "data = pd.read_csv('housing.csv')\n",
    "prices = data['MEDV']\n",
    "# Dropando a coluna com maior indice de valores ausentes\n",
    "features = data.drop('MEDV', axis = 1)\n",
    "\n",
    "data.info()\n",
    "\n",
    "# Êxito\n",
    "print(\"O conjunto de dados de imóveis de Boston tem {} pontos com {} variáveis em cada.\".format(*data.shape))"
   ]
  },
  {
   "cell_type": "code",
   "execution_count": 3,
   "metadata": {},
   "outputs": [
    {
     "data": {
      "text/html": [
       "<div>\n",
       "<style scoped>\n",
       "    .dataframe tbody tr th:only-of-type {\n",
       "        vertical-align: middle;\n",
       "    }\n",
       "\n",
       "    .dataframe tbody tr th {\n",
       "        vertical-align: top;\n",
       "    }\n",
       "\n",
       "    .dataframe thead th {\n",
       "        text-align: right;\n",
       "    }\n",
       "</style>\n",
       "<table border=\"1\" class=\"dataframe\">\n",
       "  <thead>\n",
       "    <tr style=\"text-align: right;\">\n",
       "      <th></th>\n",
       "      <th>RM</th>\n",
       "      <th>LSTAT</th>\n",
       "      <th>PTRATIO</th>\n",
       "      <th>MEDV</th>\n",
       "    </tr>\n",
       "  </thead>\n",
       "  <tbody>\n",
       "    <tr>\n",
       "      <td>0</td>\n",
       "      <td>6.575</td>\n",
       "      <td>4.98</td>\n",
       "      <td>15.3</td>\n",
       "      <td>504000.0</td>\n",
       "    </tr>\n",
       "    <tr>\n",
       "      <td>1</td>\n",
       "      <td>6.421</td>\n",
       "      <td>9.14</td>\n",
       "      <td>17.8</td>\n",
       "      <td>453600.0</td>\n",
       "    </tr>\n",
       "    <tr>\n",
       "      <td>2</td>\n",
       "      <td>7.185</td>\n",
       "      <td>4.03</td>\n",
       "      <td>17.8</td>\n",
       "      <td>728700.0</td>\n",
       "    </tr>\n",
       "    <tr>\n",
       "      <td>3</td>\n",
       "      <td>6.998</td>\n",
       "      <td>2.94</td>\n",
       "      <td>18.7</td>\n",
       "      <td>701400.0</td>\n",
       "    </tr>\n",
       "    <tr>\n",
       "      <td>4</td>\n",
       "      <td>7.147</td>\n",
       "      <td>5.33</td>\n",
       "      <td>18.7</td>\n",
       "      <td>760200.0</td>\n",
       "    </tr>\n",
       "  </tbody>\n",
       "</table>\n",
       "</div>"
      ],
      "text/plain": [
       "      RM  LSTAT  PTRATIO      MEDV\n",
       "0  6.575   4.98     15.3  504000.0\n",
       "1  6.421   9.14     17.8  453600.0\n",
       "2  7.185   4.03     17.8  728700.0\n",
       "3  6.998   2.94     18.7  701400.0\n",
       "4  7.147   5.33     18.7  760200.0"
      ]
     },
     "execution_count": 3,
     "metadata": {},
     "output_type": "execute_result"
    }
   ],
   "source": [
    "data.head()"
   ]
  },
  {
   "cell_type": "markdown",
   "metadata": {},
   "source": [
    "### Explorando os dados\n",
    "\n",
    "Você aluno deve efetuar uma investigação sobre os dados de imóveis de Boston e fornecerá suas observações. Familiarizar-se com os dados durante o processo de exploração é uma prática fundamental que ajuda você a entender melhor e justificar seus resultados.\n",
    "\n",
    "Dado que o objetivo principal deste projeto é construir um modelo de trabalho que tem a capacidade de estimar valores dos imóveis, vamos precisar separar os conjuntos de dados em **atributos** e **variável alvo**. O **atributos**, `'RM'`, `'LSTAT'` e `'PTRATIO'`, nos dão informações quantitativas sobre cada ponto de dado. A **variável alvo**, `'MEDV'`, será a variável que procuramos estimar. Eles são armazenados em `features` e ` prices`, respectivamente."
   ]
  },
  {
   "cell_type": "code",
   "execution_count": 4,
   "metadata": {},
   "outputs": [
    {
     "name": "stdout",
     "output_type": "stream",
     "text": [
      "Estatísticas para os dados dos imóveis de Boston:\n",
      "\n",
      "Preço mínimo: $105,000.00\n",
      "Preço máximo: $1,024,800.00\n",
      "Preço médio: $454,342.94\n",
      "Preço mediano: $438,900.00\n",
      "Desvio padrão dos preços: $165,171.13\n"
     ]
    }
   ],
   "source": [
    "# TODO: Preço mínimo dos dados\n",
    "minimum_price = np.amin(prices)\n",
    "\n",
    "# TODO: Preço máximo dos dados\n",
    "maximum_price = np.amax(prices)\n",
    "\n",
    "# TODO: Preço médio dos dados\n",
    "mean_price = np.mean(prices)\n",
    "\n",
    "# TODO: Preço mediano dos dados\n",
    "median_price = np.median(prices)\n",
    "\n",
    "# TODO: Desvio padrão do preço dos dados\n",
    "std_price = np.std(prices)\n",
    "\n",
    "# Mostrar as estatísticas calculadas\n",
    "print(\"Estatísticas para os dados dos imóveis de Boston:\\n\")\n",
    "print(\"Preço mínimo: ${:,.2f}\".format(minimum_price))\n",
    "print(\"Preço máximo: ${:,.2f}\".format(maximum_price))\n",
    "print(\"Preço médio: ${:,.2f}\".format(mean_price))\n",
    "print(\"Preço mediano: ${:,.2f}\".format(median_price))\n",
    "print(\"Desvio padrão dos preços: ${:,.2f}\".format(std_price))"
   ]
  },
  {
   "cell_type": "code",
   "execution_count": 5,
   "metadata": {},
   "outputs": [
    {
     "data": {
      "text/html": [
       "<div>\n",
       "<style scoped>\n",
       "    .dataframe tbody tr th:only-of-type {\n",
       "        vertical-align: middle;\n",
       "    }\n",
       "\n",
       "    .dataframe tbody tr th {\n",
       "        vertical-align: top;\n",
       "    }\n",
       "\n",
       "    .dataframe thead th {\n",
       "        text-align: right;\n",
       "    }\n",
       "</style>\n",
       "<table border=\"1\" class=\"dataframe\">\n",
       "  <thead>\n",
       "    <tr style=\"text-align: right;\">\n",
       "      <th></th>\n",
       "      <th>RM</th>\n",
       "      <th>LSTAT</th>\n",
       "      <th>PTRATIO</th>\n",
       "      <th>MEDV</th>\n",
       "    </tr>\n",
       "  </thead>\n",
       "  <tbody>\n",
       "    <tr>\n",
       "      <td>count</td>\n",
       "      <td>489.000000</td>\n",
       "      <td>489.000000</td>\n",
       "      <td>489.000000</td>\n",
       "      <td>4.890000e+02</td>\n",
       "    </tr>\n",
       "    <tr>\n",
       "      <td>mean</td>\n",
       "      <td>6.240288</td>\n",
       "      <td>12.939632</td>\n",
       "      <td>18.516564</td>\n",
       "      <td>4.543429e+05</td>\n",
       "    </tr>\n",
       "    <tr>\n",
       "      <td>std</td>\n",
       "      <td>0.643650</td>\n",
       "      <td>7.081990</td>\n",
       "      <td>2.111268</td>\n",
       "      <td>1.653403e+05</td>\n",
       "    </tr>\n",
       "    <tr>\n",
       "      <td>min</td>\n",
       "      <td>3.561000</td>\n",
       "      <td>1.980000</td>\n",
       "      <td>12.600000</td>\n",
       "      <td>1.050000e+05</td>\n",
       "    </tr>\n",
       "    <tr>\n",
       "      <td>25%</td>\n",
       "      <td>5.880000</td>\n",
       "      <td>7.370000</td>\n",
       "      <td>17.400000</td>\n",
       "      <td>3.507000e+05</td>\n",
       "    </tr>\n",
       "    <tr>\n",
       "      <td>50%</td>\n",
       "      <td>6.185000</td>\n",
       "      <td>11.690000</td>\n",
       "      <td>19.100000</td>\n",
       "      <td>4.389000e+05</td>\n",
       "    </tr>\n",
       "    <tr>\n",
       "      <td>75%</td>\n",
       "      <td>6.575000</td>\n",
       "      <td>17.120000</td>\n",
       "      <td>20.200000</td>\n",
       "      <td>5.187000e+05</td>\n",
       "    </tr>\n",
       "    <tr>\n",
       "      <td>max</td>\n",
       "      <td>8.398000</td>\n",
       "      <td>37.970000</td>\n",
       "      <td>22.000000</td>\n",
       "      <td>1.024800e+06</td>\n",
       "    </tr>\n",
       "  </tbody>\n",
       "</table>\n",
       "</div>"
      ],
      "text/plain": [
       "               RM       LSTAT     PTRATIO          MEDV\n",
       "count  489.000000  489.000000  489.000000  4.890000e+02\n",
       "mean     6.240288   12.939632   18.516564  4.543429e+05\n",
       "std      0.643650    7.081990    2.111268  1.653403e+05\n",
       "min      3.561000    1.980000   12.600000  1.050000e+05\n",
       "25%      5.880000    7.370000   17.400000  3.507000e+05\n",
       "50%      6.185000   11.690000   19.100000  4.389000e+05\n",
       "75%      6.575000   17.120000   20.200000  5.187000e+05\n",
       "max      8.398000   37.970000   22.000000  1.024800e+06"
      ]
     },
     "execution_count": 5,
     "metadata": {},
     "output_type": "execute_result"
    }
   ],
   "source": [
    "# Trouxe os mesmo resultados apresentados e inclusive os Quartis\n",
    "data.describe()"
   ]
  },
  {
   "cell_type": "markdown",
   "metadata": {},
   "source": [
    "### Questão 1\n",
    "\n",
    "Estamos utilizando apenas as seguintes variáveis para analisar:\n",
    "- `'RM'` é o número médio de cômodos entre os imóveis na vizinhança.\n",
    "- `'LSTAT'` é a porcentagem de proprietários na vizinhança considerados de \"classe baixa\" (proletariado).\n",
    "- `'PTRATIO'` é a razão de estudantes para professores nas escolas de ensino fundamental e médio na vizinhança.\n",
    "\n",
    "\n",
    "**A) Qual das variáveis pode interferir com o valor da variável `'MEDV'` e elevar o seu aumento?**\n",
    "\n",
    "\n",
    "**B) A mesma variável da questão A `'MEDV'`, qual variável pode diminuir o seu valor?**\n",
    "\n",
    "**OBS:** Lembra-se que podem utilizar as variáveis que ditam a MODA em formato estatítisco."
   ]
  },
  {
   "cell_type": "markdown",
   "metadata": {},
   "source": [
    "#### <font color=\"red\"> Questão 1 </font>\n",
    "\n",
    "**A) Qual das variáveis pode interferir com o valor da variável `'MEDV'` e elevar o seu aumento?**\n",
    "\n",
    "**Para responder essa questão, vamos analisar a correlação das variáveis independentes com a variável dependente. Para isso, utilizaremos a função .corr(), que é uma função da biblioteca pandas, capaz de calcular a correlação de Pearson entre as variáveis presentes em um Dataframe**.\n",
    "\n",
    "- O valor resultante da função .corr() é um valor numérico que oscila entre -1 até 1. Quanto maior for o valor absoluto do coeficiente, mais forte é a relação entre as variáveis.\n",
    "- O valor de correlação próximo de 1, apresenta uma correlação positiva, pois conforme uma variável aumenta, a outra variável também aumenta.\n",
    "- O valor de correlação próximo de -1, apresenta uma correlação negativa, pois conforme uma variável aumenta, a outra variável diminui.\n",
    "- O valor de correlação próximo de 0, indica que não existe uma relação linear entre as variáveis. "
   ]
  },
  {
   "cell_type": "code",
   "execution_count": 48,
   "metadata": {},
   "outputs": [
    {
     "name": "stdout",
     "output_type": "stream",
     "text": [
      "Visualizando correlação entre variáveis em formato de tabela:\n"
     ]
    },
    {
     "data": {
      "text/html": [
       "<style  type=\"text/css\" >\n",
       "    #T_a4375bc0_f43c_11e9_9eb0_485f99b2cf1drow0_col0 {\n",
       "            background-color:  #b40426;\n",
       "            color:  #f1f1f1;\n",
       "        }    #T_a4375bc0_f43c_11e9_9eb0_485f99b2cf1drow0_col1 {\n",
       "            background-color:  #5470de;\n",
       "            color:  #000000;\n",
       "        }    #T_a4375bc0_f43c_11e9_9eb0_485f99b2cf1drow0_col2 {\n",
       "            background-color:  #6788ee;\n",
       "            color:  #000000;\n",
       "        }    #T_a4375bc0_f43c_11e9_9eb0_485f99b2cf1drow0_col3 {\n",
       "            background-color:  #e9785d;\n",
       "            color:  #000000;\n",
       "        }    #T_a4375bc0_f43c_11e9_9eb0_485f99b2cf1drow1_col0 {\n",
       "            background-color:  #3b4cc0;\n",
       "            color:  #f1f1f1;\n",
       "        }    #T_a4375bc0_f43c_11e9_9eb0_485f99b2cf1drow1_col1 {\n",
       "            background-color:  #b40426;\n",
       "            color:  #f1f1f1;\n",
       "        }    #T_a4375bc0_f43c_11e9_9eb0_485f99b2cf1drow1_col2 {\n",
       "            background-color:  #efcfbf;\n",
       "            color:  #000000;\n",
       "        }    #T_a4375bc0_f43c_11e9_9eb0_485f99b2cf1drow1_col3 {\n",
       "            background-color:  #3b4cc0;\n",
       "            color:  #f1f1f1;\n",
       "        }    #T_a4375bc0_f43c_11e9_9eb0_485f99b2cf1drow2_col0 {\n",
       "            background-color:  #779af7;\n",
       "            color:  #000000;\n",
       "        }    #T_a4375bc0_f43c_11e9_9eb0_485f99b2cf1drow2_col1 {\n",
       "            background-color:  #f5c0a7;\n",
       "            color:  #000000;\n",
       "        }    #T_a4375bc0_f43c_11e9_9eb0_485f99b2cf1drow2_col2 {\n",
       "            background-color:  #b40426;\n",
       "            color:  #f1f1f1;\n",
       "        }    #T_a4375bc0_f43c_11e9_9eb0_485f99b2cf1drow2_col3 {\n",
       "            background-color:  #6687ed;\n",
       "            color:  #000000;\n",
       "        }    #T_a4375bc0_f43c_11e9_9eb0_485f99b2cf1drow3_col0 {\n",
       "            background-color:  #ec7f63;\n",
       "            color:  #000000;\n",
       "        }    #T_a4375bc0_f43c_11e9_9eb0_485f99b2cf1drow3_col1 {\n",
       "            background-color:  #3b4cc0;\n",
       "            color:  #f1f1f1;\n",
       "        }    #T_a4375bc0_f43c_11e9_9eb0_485f99b2cf1drow3_col2 {\n",
       "            background-color:  #3b4cc0;\n",
       "            color:  #f1f1f1;\n",
       "        }    #T_a4375bc0_f43c_11e9_9eb0_485f99b2cf1drow3_col3 {\n",
       "            background-color:  #b40426;\n",
       "            color:  #f1f1f1;\n",
       "        }</style><table id=\"T_a4375bc0_f43c_11e9_9eb0_485f99b2cf1d\" ><thead>    <tr>        <th class=\"blank level0\" ></th>        <th class=\"col_heading level0 col0\" >RM</th>        <th class=\"col_heading level0 col1\" >LSTAT</th>        <th class=\"col_heading level0 col2\" >PTRATIO</th>        <th class=\"col_heading level0 col3\" >MEDV</th>    </tr></thead><tbody>\n",
       "                <tr>\n",
       "                        <th id=\"T_a4375bc0_f43c_11e9_9eb0_485f99b2cf1dlevel0_row0\" class=\"row_heading level0 row0\" >RM</th>\n",
       "                        <td id=\"T_a4375bc0_f43c_11e9_9eb0_485f99b2cf1drow0_col0\" class=\"data row0 col0\" >1</td>\n",
       "                        <td id=\"T_a4375bc0_f43c_11e9_9eb0_485f99b2cf1drow0_col1\" class=\"data row0 col1\" >-0.612033</td>\n",
       "                        <td id=\"T_a4375bc0_f43c_11e9_9eb0_485f99b2cf1drow0_col2\" class=\"data row0 col2\" >-0.304559</td>\n",
       "                        <td id=\"T_a4375bc0_f43c_11e9_9eb0_485f99b2cf1drow0_col3\" class=\"data row0 col3\" >0.697209</td>\n",
       "            </tr>\n",
       "            <tr>\n",
       "                        <th id=\"T_a4375bc0_f43c_11e9_9eb0_485f99b2cf1dlevel0_row1\" class=\"row_heading level0 row1\" >LSTAT</th>\n",
       "                        <td id=\"T_a4375bc0_f43c_11e9_9eb0_485f99b2cf1drow1_col0\" class=\"data row1 col0\" >-0.612033</td>\n",
       "                        <td id=\"T_a4375bc0_f43c_11e9_9eb0_485f99b2cf1drow1_col1\" class=\"data row1 col1\" >1</td>\n",
       "                        <td id=\"T_a4375bc0_f43c_11e9_9eb0_485f99b2cf1drow1_col2\" class=\"data row1 col2\" >0.360445</td>\n",
       "                        <td id=\"T_a4375bc0_f43c_11e9_9eb0_485f99b2cf1drow1_col3\" class=\"data row1 col3\" >-0.76067</td>\n",
       "            </tr>\n",
       "            <tr>\n",
       "                        <th id=\"T_a4375bc0_f43c_11e9_9eb0_485f99b2cf1dlevel0_row2\" class=\"row_heading level0 row2\" >PTRATIO</th>\n",
       "                        <td id=\"T_a4375bc0_f43c_11e9_9eb0_485f99b2cf1drow2_col0\" class=\"data row2 col0\" >-0.304559</td>\n",
       "                        <td id=\"T_a4375bc0_f43c_11e9_9eb0_485f99b2cf1drow2_col1\" class=\"data row2 col1\" >0.360445</td>\n",
       "                        <td id=\"T_a4375bc0_f43c_11e9_9eb0_485f99b2cf1drow2_col2\" class=\"data row2 col2\" >1</td>\n",
       "                        <td id=\"T_a4375bc0_f43c_11e9_9eb0_485f99b2cf1drow2_col3\" class=\"data row2 col3\" >-0.519034</td>\n",
       "            </tr>\n",
       "            <tr>\n",
       "                        <th id=\"T_a4375bc0_f43c_11e9_9eb0_485f99b2cf1dlevel0_row3\" class=\"row_heading level0 row3\" >MEDV</th>\n",
       "                        <td id=\"T_a4375bc0_f43c_11e9_9eb0_485f99b2cf1drow3_col0\" class=\"data row3 col0\" >0.697209</td>\n",
       "                        <td id=\"T_a4375bc0_f43c_11e9_9eb0_485f99b2cf1drow3_col1\" class=\"data row3 col1\" >-0.76067</td>\n",
       "                        <td id=\"T_a4375bc0_f43c_11e9_9eb0_485f99b2cf1drow3_col2\" class=\"data row3 col2\" >-0.519034</td>\n",
       "                        <td id=\"T_a4375bc0_f43c_11e9_9eb0_485f99b2cf1drow3_col3\" class=\"data row3 col3\" >1</td>\n",
       "            </tr>\n",
       "    </tbody></table>"
      ],
      "text/plain": [
       "<pandas.io.formats.style.Styler at 0x7f6a645c9190>"
      ]
     },
     "execution_count": 48,
     "metadata": {},
     "output_type": "execute_result"
    }
   ],
   "source": [
    "print(\"Visualizando correlação entre variáveis em formato de tabela:\")\n",
    "correlation = data.corr()\n",
    "correlation.style.background_gradient(cmap='coolwarm')"
   ]
  },
  {
   "cell_type": "code",
   "execution_count": 43,
   "metadata": {},
   "outputs": [
    {
     "name": "stdout",
     "output_type": "stream",
     "text": [
      "Visualizando correlação entre variáveis em formato gráfico: \n"
     ]
    },
    {
     "data": {
      "text/plain": [
       "<matplotlib.axes._subplots.AxesSubplot at 0x7f6a6469e8d0>"
      ]
     },
     "execution_count": 43,
     "metadata": {},
     "output_type": "execute_result"
    },
    {
     "data": {
      "image/png": "[encoded data removed]",
      "text/plain": [
       "<Figure size 432x288 with 2 Axes>"
      ]
     },
     "metadata": {},
     "output_type": "display_data"
    }
   ],
   "source": [
    "print(\"Visualizando correlação entre variáveis em formato gráfico: \")\n",
    "sns.heatmap(\n",
    "    correlation, \n",
    "    vmin=-1, vmax=1, center=0,\n",
    "    square=True)"
   ]
  },
  {
   "cell_type": "markdown",
   "metadata": {},
   "source": [
    "### <font color=\"red\"> Resposta -  A) </font>\n",
    "\n",
    "**A variável que pode interferir com o valor da variável `'MEDV'` e elevar o seu aumento é a variável `'RM'`, pois é a variável que apresenta o maior valor de correlação de Pearson, com o valor de 0.6972.**"
   ]
  },
  {
   "cell_type": "markdown",
   "metadata": {},
   "source": [
    "### <font color=\"red\"> Resposta -  B) </font>\n",
    "\n",
    "**A variável que pode interferir com o valor da variável `'MEDV'` e diminuir o seu valor é a variável `'LSTAT'`, pois é a variável que apresenta o menor valor de correlação de Pearson, com o valor de -0.76067.**\n",
    "\n",
    "**A variável `'PTRATIO'`, também possui o valor negativo de correlação de Pearson em relação a variável `'MEDV'`, com o valor de -0.519. Dessa forma, as duas variáveis pode interferir de forma negativa na variável target (`'MEDV'`)**"
   ]
  },
  {
   "cell_type": "markdown",
   "metadata": {},
   "source": [
    "### Modelo Métrica de Desempenho\n",
    "\n",
    "Para este projeto, você irá calcular o [*coeficiente de determinação*](https://pt.khanacademy.org/math/ap-statistics/bivariate-data-ap/assessing-fit-least-squares-regression/a/r-squared-intuition), R<sup>2</sup>, para quantificar o desempenho do seu modelo. O coeficiente de determinação é uma estatística útil no campo de análise de regressão uma vez que descreve o quão \"bom\" é a capacidade do modelo em fazer estimativas."
   ]
  },
  {
   "cell_type": "code",
   "execution_count": 51,
   "metadata": {},
   "outputs": [],
   "source": [
    "# TODO: Importar 'r2_score'\n",
    "from sklearn.metrics import r2_score\n",
    "\n",
    "def performance_metric(y_true, y_predict):\n",
    "    \"\"\" Calcular e retornar a pontuação de desempenho entre \n",
    "        valores reais e estimados baseado na métrica escolhida. \"\"\"\n",
    "    \n",
    "    # TODO: Calcular a pontuação de desempenho entre 'y_true' e 'y_predict'\n",
    "    score = r2_score(y_true, y_predict)\n",
    "    \n",
    "    # Devolver a pontuação\n",
    "    return score"
   ]
  },
  {
   "cell_type": "markdown",
   "metadata": {},
   "source": [
    "### Questão 2\n",
    "\n",
    "Dado a função acima do modelo de performance por desempenho, usando o coeficiente R<sup>2</sup> devemos utilizar algumas métricas.\n",
    "\n",
    "Admita que um conjunto de dados que contém cinco observações de dados e um modelo fez a seguinte estimativa para a variável alvo:\n",
    "\n",
    "| Valores Reais | Estimativa |\n",
    "| :-------------: | :--------: |\n",
    "| 3.0 | 2.5 |\n",
    "| -0.5 | 0.0 |\n",
    "| 2.0 | 2.1 |\n",
    "| 7.0 | 7.8 |\n",
    "| 4.2 | 5.3 |\n",
    "\n",
    "** Executar a célula de código abaixo para usar a função `performance_metric’ e calcular o coeficiente de determinação desse modelo. **"
   ]
  },
  {
   "cell_type": "code",
   "execution_count": 56,
   "metadata": {},
   "outputs": [
    {
     "name": "stdout",
     "output_type": "stream",
     "text": [
      "O valor do coeficiente de determinação desse modelo é: 0.9228556485355649\n"
     ]
    }
   ],
   "source": [
    "# Insira o código usando a função performance_metric para calcular\n",
    "dados = {'Valores Reais':[3.0, -0.5, 2.0, 7.0, 4.2],\n",
    "         'Estimativas': [2.5, 0.0, 2.1, 7.8, 5.3]}\n",
    "df = pd.DataFrame(dados, columns=['Valores Reais','Estimativas'])\n",
    "\n",
    "# Calculando o valor de r2_score\n",
    "print(\"O valor do coeficiente de determinação desse modelo é: {}\".format(performance_metric(df['Valores Reais'], df['Estimativas'])))"
   ]
  },
  {
   "cell_type": "markdown",
   "metadata": {},
   "source": [
    "**Justifique o valor de saída da função R<sup>2</sup>:**\n",
    "\n",
    "\n",
    "O coeficiente de determinação, também chamado de R<sup>2</sup>, é uma medida de ajustamento de um modelo estatístico linear generalizado, como a regressão linear, em relação aos valores observados. O R<sup>2</sup> varia entre 0 e 1, indicando, em percentagem, o quanto o modelo consegue explicar os valores observados. Quanto maior o R², mais explicativo é o modelo, melhor ele se ajusta à amostra. \n",
    "\n",
    "\n",
    "O resultado do calcúlo referente as valores apresentados foi de \"0.9228556485355649\", isso signifca que aproximadamente 92.28% da variável dependente (`'MEDV'`) consegue ser explciado pelos regressores presentes no modelo fake apresentado."
   ]
  },
  {
   "cell_type": "markdown",
   "metadata": {},
   "source": [
    "### Em formato de conhecimento - Misturar e Separar os Dados\n",
    "\n",
    "Geralmente os dados são também misturados em uma ordem aleatória ao criar os subconjuntos de treinamento e de teste para remover qualquer viés (ou erro sistemático) na ordenação do conjunto de dados.\n",
    "\n",
    "Neste caso será mostrado a separação do dataset em 80% treinamento e 20% em teste, o que geralmente fazemos em um modelo de Machine Learning e ou Deep Learning. \n",
    "\n",
    "\n",
    "Para título de curiosidade [aqui](http://scikit-learn.org/0.19/modules/generated/sklearn.model_selection.train_test_split.html)."
   ]
  },
  {
   "cell_type": "code",
   "execution_count": 57,
   "metadata": {},
   "outputs": [
    {
     "name": "stdout",
     "output_type": "stream",
     "text": [
      "Separação entre treino e teste feita com êxito.\n"
     ]
    }
   ],
   "source": [
    "# TODO: Importar 'train_test_split'\n",
    "from sklearn.model_selection import train_test_split\n",
    "\n",
    "# TODO: Misturar e separar os dados em conjuntos de treinamento e teste\n",
    "X = np.array(data[['RM', 'LSTAT', 'PTRATIO']])\n",
    "y = np.array(data['MEDV'])\n",
    "X_train, X_test, y_train, y_test = train_test_split(X, y, test_size=0.2, random_state=42)\n",
    "\n",
    "# Êxito\n",
    "print(\"Separação entre treino e teste feita com êxito.\")"
   ]
  },
  {
   "cell_type": "markdown",
   "metadata": {},
   "source": [
    "### Questão 3\n",
    "\n",
    "Após executar todo o trabalho, apresente uma revisão sistemática do uso de média, mediana e R<sup>2</sup>. Cada item deve conter, no mínimo, 2 (dois) parágrafos de explicação.\n",
    "Importante: Lembre-se de adicionar as referências bibliográficas utilizadas."
   ]
  },
  {
   "cell_type": "markdown",
   "metadata": {},
   "source": [
    "### MÉDIA e MEDIANA:\n",
    "**A média e a mediana estão entre os primeiros valores a serem calculados para entendermos nossos dados. A média é um valor calculado em que somamos todos os valores de um conjunto de dados e dividimos pelo número total de elementos desse conjunto. Já a mediana representa o valor central de um conjunto de dados, para encontrar o valor da mediana é necessário colocar os valores em ordem crescente ou decrescente.**\n",
    "\n",
    "**A média, junto com o desvio padrão, é utilizada para encontrar valores outliers. Tanto a média como a mediana são valores utilizados para substituir valores NaN em um Dataset. A média pode sofrer bastante com valores discrepantes, fazendo com que seu valor não represente de forma significativa um conjunto de dados. Já a mediana não sofre tanto com valores discrepantes, pois a mediana é o valor central em um conjunto de dados. Dessa forma, dependendo da distribuição dos dados em um Dataset, a mediana pode ser mais adequada do que a média para substituir valores NaN em um Dataset.**\n",
    "\n",
    "### R²\n",
    "**\"O coeficiente de determinação, também chamado de R², é uma medida de ajustamento de um modelo estatístico linear generalizado, como a regressão linear, em relação aos valores observados. O R² varia entre 0 e 1, indicando, em percentagem, o quanto o modelo consegue explicar os valores observados. Quanto maior o R², mais explicativo é o modelo, melhor ele se ajusta à amostra.\". O R² é um valor bastante utilizado para avaliar a qualidade do modelo, pois esse coeficiente indica quanto o modelo foi capaz de explicar os dados coletados.**\n",
    "\n",
    "\n",
    "GOUVEIA, Rosimar. Média, Moda e Mediana. Disponível em: <https://www.todamateria.com.br/media-moda-e-mediana/>. Acesso em: 11 de Novembro de 2019.\n",
    "Coeficiente de Determinação. Disponível em: <https://pt.wikipedia.org/wiki/Coeficiente_de_determina%C3%A7%C3%A3o>. Acesso em: 11 de Novembro de 2019."
   ]
  },
  {
   "cell_type": "code",
   "execution_count": null,
   "metadata": {},
   "outputs": [],
   "source": []
  }
 ],
 "metadata": {
  "kernelspec": {
   "display_name": "Python 3",
   "language": "python",
   "name": "python3"
  },
  "language_info": {
   "codemirror_mode": {
    "name": "ipython",
    "version": 3
   },
   "file_extension": ".py",
   "mimetype": "text/x-python",
   "name": "python",
   "nbconvert_exporter": "python",
   "pygments_lexer": "ipython3",
   "version": "3.7.4"
  }
 },
 "nbformat": 4,
 "nbformat_minor": 2
}
